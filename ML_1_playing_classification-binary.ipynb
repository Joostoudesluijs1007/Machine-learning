{
 "cells": [
  {
   "cell_type": "code",
   "execution_count": 2,
   "metadata": {},
   "outputs": [
    {
     "name": "stdout",
     "output_type": "stream",
     "text": [
      "Populating the interactive namespace from numpy and matplotlib\n"
     ]
    }
   ],
   "source": [
    "%pylab inline --no-import-all"
   ]
  },
  {
   "cell_type": "code",
   "execution_count": 3,
   "metadata": {},
   "outputs": [],
   "source": [
    "#data = spam and flagged\n",
    "#spam = y_true (known y)\n",
    "#flagged = y_pred (predicted y)\n",
    "spam = [0, 0, 1, 0, 1, 0, 0, 1, 0, 0, 0, 0, 0, 0, 0, 1, 0, 0, 0, 0, 0, 0, 0, 0, 1, \n",
    "           0, 0, 0, 0, 0, 0, 0, 0, 1, 0, 1, 0, 0, 0, 0, 0, 0, 0, 0, 0, 0, 0, 0, 0, 0, \n",
    "           0, 1, 1, 1, 0, 1, 0, 0, 1, 0, 0, 0, 0, 0, 0, 0, 0, 0, 0, 0, 0, 0, 1, 0, 0, \n",
    "           0, 1, 0, 0, 0, 0, 0, 0, 0, 0, 0, 0, 0, 0, 1, 0, 1, 0, 0, 0, 0, 0, 1, 0, 0]\n",
    "\n",
    "flagged = [1, 0, 1, 0, 1, 0, 0, 0, 0, 0, 0, 0, 0, 0, 0, 1, 0, 0, 0, 0, 0, 0, 0, 0, 0,\n",
    "               0, 0, 0, 0, 0, 0, 0, 0, 0, 0, 0, 0, 0, 0, 0, 0, 0, 0, 0, 0, 0, 0, 0, 0, 0,\n",
    "               0, 1, 1, 0, 1, 1, 0, 0, 0, 0, 0, 0, 0, 0, 0, 0, 0, 0, 0, 0, 0, 0, 1, 0, 0,\n",
    "               0, 1, 0, 0, 0, 0, 0, 0, 0, 0, 0, 0, 0, 0, 1, 1, 1, 0, 0, 0, 0, 0, 1, 0, 0]"
   ]
  },
  {
   "cell_type": "code",
   "execution_count": 7,
   "metadata": {},
   "outputs": [
    {
     "name": "stdout",
     "output_type": "stream",
     "text": [
      "[[80.  3.]\n",
      " [ 6. 11.]]\n"
     ]
    }
   ],
   "source": [
    "import numpy as np\n",
    "y_true = spam.copy()\n",
    "y_pred = flagged.copy()\n",
    "#ground for TN,FP,FN,TP\n",
    "def matrix(y_true, y_pred):\n",
    "    matr = np.zeros([2,2])\n",
    "    for item in range(0,len(y_true)):\n",
    "        if y_true[item] == 0 and y_pred[item] == 0:\n",
    "            matr[0,0] = matr[0,0]+1\n",
    "        if y_true[item] == 0 and y_pred[item] == 1:\n",
    "            matr[0,1] = matr[0,1]+1\n",
    "        if y_true[item] == 1 and y_pred[item] == 0:\n",
    "            matr[1,0] = matr[1,0]+1\n",
    "        if y_true[item] == 1 and y_pred[item] == 1:\n",
    "            matr[1,1] = matr[1,1]+1\n",
    "    return matr\n",
    "cf = matrix(y_true, y_pred)\n",
    "print(cf)"
   ]
  },
  {
   "cell_type": "code",
   "execution_count": 31,
   "metadata": {},
   "outputs": [
    {
     "name": "stdout",
     "output_type": "stream",
     "text": [
      "Accuracy: \t 0.91\n",
      "Precision \t 0.79\n",
      "Recall: \t 0.65\n",
      "f-score: \t 0.71\n",
      "Specificity: \t 0.96\n"
     ]
    }
   ],
   "source": [
    "def accuracy(cf):\n",
    "    TN = cf[0,0]\n",
    "    FP = cf[0,1]\n",
    "    FN = cf[1,0]\n",
    "    TP = cf[1,1]\n",
    "    accu = round((TP+TN)/np.sum(cf),2)\n",
    "    return accu\n",
    "accuracy = (accuracy(cf))\n",
    "print(\"Accuracy:\", \"\\t\", accuracy)\n",
    "\n",
    "def precision(cf):\n",
    "    TP = cf[1,1]\n",
    "    FP = cf[0,1]\n",
    "    prec = round(TP/(TP+FP),2)\n",
    "    return prec\n",
    "precision = (precision(cf))\n",
    "print(\"Precision\", \"\\t\", precision)\n",
    "\n",
    "def recall(cf):\n",
    "    TP = cf[1,1]\n",
    "    FN = cf[1,0]\n",
    "    rec = round(TP/(TP+FN),2)\n",
    "    return rec\n",
    "recall = recall(cf) \n",
    "print(\"Recall:\", \"\\t\", recall)\n",
    "\n",
    "def f_beta_score(precision, recall, beta=1):\n",
    "    f_score = (1+beta**2) * precision*recall / (beta**2*precision+recall)\n",
    "    return f_score\n",
    "f_score = round(f_beta_score(precision, recall, beta=1),2)\n",
    "print(\"f-score:\", \"\\t\", f_score)\n",
    "\n",
    "def specificity(cf):\n",
    "    TN = cf[0,0]\n",
    "    FP = cf[0,1]\n",
    "    speci = round(TN/(TN+FP),2)\n",
    "    return speci\n",
    "specificity = specificity(cf)\n",
    "print(\"Specificity:\", \"\\t\", specificity)"
   ]
  },
  {
   "cell_type": "code",
   "execution_count": 32,
   "metadata": {},
   "outputs": [
    {
     "data": {
      "image/png": "[encoded data removed]",
      "text/plain": [
       "<Figure size 432x288 with 1 Axes>"
      ]
     },
     "metadata": {
      "needs_background": "light"
     },
     "output_type": "display_data"
    }
   ],
   "source": [
    "def different_f_scores():\n",
    "    beta = [x*0.2 for x in range(0,10+1)]\n",
    "    plt.plot(beta, [f_beta_score(precision, recall, beta=b) for b in beta])\n",
    "    plt.xlabel(\"Value for beta\")\n",
    "    plt.ylabel(\"F-beta score\")\n",
    "different_f_scores()"
   ]
  },
  {
   "cell_type": "code",
   "execution_count": 6,
   "metadata": {},
   "outputs": [
    {
     "name": "stdout",
     "output_type": "stream",
     "text": [
      "Accuracy: 0.91\n",
      "Accuracy: 0.91\n"
     ]
    }
   ],
   "source": [
    "#other ways to get accuracy\n",
    "def accuracy(y_true, y_pred):\n",
    "    y_true_array = np.array(y_true)\n",
    "    y_pred_array = np.array(y_pred)\n",
    "    accu = np.mean(y_true_array == y_pred_array)\n",
    "    return accu\n",
    "print(\"Accuracy:\", accuracy(y_true, y_pred))\n",
    "\n",
    "#same but in less efficient way\n",
    "def accuracy(y_true, y_pred):\n",
    "    c = 0\n",
    "    for item in range(0,len(y_true)):\n",
    "        if y_true[item] == y_pred[item]:\n",
    "            c+=1\n",
    "    accu = c/len(y_true)\n",
    "    return accu\n",
    "print(\"Accuracy:\", accuracy(y_true, y_pred))"
   ]
  }
 ],
 "metadata": {
  "kernelspec": {
   "display_name": "Python 3",
   "language": "python",
   "name": "python3"
  },
  "language_info": {
   "codemirror_mode": {
    "name": "ipython",
    "version": 3
   },
   "file_extension": ".py",
   "mimetype": "text/x-python",
   "name": "python",
   "nbconvert_exporter": "python",
   "pygments_lexer": "ipython3",
   "version": "3.7.1"
  }
 },
 "nbformat": 4,
 "nbformat_minor": 4
}
