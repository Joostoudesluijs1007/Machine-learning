{
 "cells": [
  {
   "cell_type": "code",
   "execution_count": 1,
   "metadata": {},
   "outputs": [
    {
     "name": "stdout",
     "output_type": "stream",
     "text": [
      "Populating the interactive namespace from numpy and matplotlib\n"
     ]
    }
   ],
   "source": [
    "%pylab inline --no-import-all"
   ]
  },
  {
   "cell_type": "code",
   "execution_count": 38,
   "metadata": {},
   "outputs": [
    {
     "name": "stdout",
     "output_type": "stream",
     "text": [
      "14\n"
     ]
    },
    {
     "data": {
      "text/plain": [
       "<matplotlib.legend.Legend at 0x7fa546081630>"
      ]
     },
     "execution_count": 38,
     "metadata": {},
     "output_type": "execute_result"
    },
    {
     "data": {
      "image/png": "[encoded data removed]",
      "text/plain": [
       "<Figure size 432x288 with 1 Axes>"
      ]
     },
     "metadata": {
      "needs_background": "light"
     },
     "output_type": "display_data"
    }
   ],
   "source": [
    "#wheater data from october\n",
    "data = [19.5,19.2,19.0,18.5,18.4,18.0,17.0,16,16.0,15.8,15.7,14,13.9,10]\n",
    "print(len(data))\n",
    "prediction1 = [20.5,20.2,19.0,17.5,16.4,16.0,16.0,15,15.0,15.0,15.0,14,13.9,10]\n",
    "prediction2 = [19.5,19.2,19.0,16.5,16.4,16.0,16.0,16,16.0,15.8,15.7,14.6,13.9,10]\n",
    "\n",
    "plt.scatter(range(len(data)), data, label=\"Original data points\") \n",
    "plt.plot(prediction1, label = \"Prediction 1\")\n",
    "plt.plot(prediction2, label = \"Prediction 2\")\n",
    "plt.legend(loc = \"upper left\")"
   ]
  },
  {
   "cell_type": "code",
   "execution_count": 48,
   "metadata": {},
   "outputs": [
    {
     "name": "stdout",
     "output_type": "stream",
     "text": [
      "MAE1: 0.82\n",
      "MAE2 0.54\n",
      "MSE1: 1.08\n",
      "MSE2: 0.95\n"
     ]
    }
   ],
   "source": [
    "y_true = data.copy()\n",
    "y_pred1 = prediction1.copy()\n",
    "y_pred2 = prediction2.copy()\n",
    "import numpy as np\n",
    "def mean_absolute_error(y_true, y_pred1):\n",
    "    y_true_array = np.array(y_true)\n",
    "    y_pred_array = np.array(y_pred1)\n",
    "    return np.mean(abs(y_true_array - y_pred_array))\n",
    "print(\"MAE1:\", round(mean_absolute_error(y_true, y_pred1),2))  \n",
    "\n",
    "def mean_absolute_error(y_true, y_pred2):\n",
    "    y_true_array = np.array(y_true)\n",
    "    y_pred_array = np.array(y_pred2)\n",
    "    return np.mean(abs(y_true_array - y_pred_array))\n",
    "print(\"MAE2\", round(mean_absolute_error(y_true, y_pred2),2))  \n",
    "\n",
    "def mean_squared_error(y_true, y_pred1):\n",
    "    y_true_array = np.array(y_true)\n",
    "    y_pred_array = np.array(y_pred1)\n",
    "    return np.square(y_true_array - y_pred_array).mean(axis = 0)\n",
    "print(\"MSE1:\", round(mean_squared_error(y_true, y_pred1),2))\n",
    "\n",
    "def mean_squared_error(y_true, y_pred2):\n",
    "    y_true_array = np.array(y_true)\n",
    "    y_pred_array = np.array(y_pred2)\n",
    "    return np.square(y_true_array - y_pred_array).mean(axis=0)\n",
    "print(\"MSE2:\", round(mean_squared_error(y_true, y_pred2),2))"
   ]
  },
  {
   "cell_type": "code",
   "execution_count": 68,
   "metadata": {},
   "outputs": [
    {
     "name": "stdout",
     "output_type": "stream",
     "text": [
      "MAE1: 0.82\n",
      "MAE2: 0.54\n",
      "MSE1: 1.08\n",
      "MSE2: 0.95\n"
     ]
    }
   ],
   "source": [
    "def mean_absolute_error(y_true, y_pred1):\n",
    "    empty = 0\n",
    "    for item in range(len(y_true)):\n",
    "        empty = empty + abs(y_true[item] - y_pred1[item])\n",
    "    mae = empty/len(y_true)\n",
    "    return mae\n",
    "print(\"MAE1:\", round(mean_absolute_error(y_true, y_pred1),2))  \n",
    "\n",
    "def mean_absolute_error(y_true, y_pred1):\n",
    "    c = 0\n",
    "    for item in range(0, len(y_true)):\n",
    "        c = c + abs(y_true[item] - y_pred2[item])\n",
    "    mae = c/len(y_true)\n",
    "    return mae\n",
    "print(\"MAE2:\", round(mean_absolute_error(y_true, y_pred2),2))\n",
    "\n",
    "def mean_squared_error(y_true, y_pred1):\n",
    "    c = 0\n",
    "    for item in range(0,len(y_true)):\n",
    "        c = (c + (y_true[item] - y_pred1[item])**2)\n",
    "    mse = c/len(y_true)\n",
    "    return mse\n",
    "print(\"MSE1:\", round(mean_squared_error(y_true, y_pred1),2))\n",
    "\n",
    "def mean_squared_error(y_true, y_pred2):\n",
    "    c = 0\n",
    "    for item in range(0,len(y_true)):\n",
    "        c = c + (y_true[item]-y_pred2[item])**2\n",
    "    mse = c/len(y_true)\n",
    "    return mse\n",
    "print(\"MSE2:\", round(mean_squared_error(y_true, y_pred2),2))"
   ]
  }
 ],
 "metadata": {
  "kernelspec": {
   "display_name": "Python 3",
   "language": "python",
   "name": "python3"
  },
  "language_info": {
   "codemirror_mode": {
    "name": "ipython",
    "version": 3
   },
   "file_extension": ".py",
   "mimetype": "text/x-python",
   "name": "python",
   "nbconvert_exporter": "python",
   "pygments_lexer": "ipython3",
   "version": "3.7.1"
  }
 },
 "nbformat": 4,
 "nbformat_minor": 4
}
