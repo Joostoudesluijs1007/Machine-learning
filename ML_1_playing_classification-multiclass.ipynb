{
 "cells": [
  {
   "cell_type": "code",
   "execution_count": 13,
   "metadata": {},
   "outputs": [
    {
     "name": "stdout",
     "output_type": "stream",
     "text": [
      "Populating the interactive namespace from numpy and matplotlib\n"
     ]
    }
   ],
   "source": [
    "%pylab inline --no-import-all"
   ]
  },
  {
   "cell_type": "code",
   "execution_count": 14,
   "metadata": {},
   "outputs": [],
   "source": [
    "true = [0, 0, 0, 0, 1, 0, 0, 0, 0, 0, 1, 0, 0, 0, 0, 0, 0,\n",
    "         2, 1, 1, 2, 2, 0, 0, 1, 0, 1, 1, 0, 0, 2, 1, 0, 1,\n",
    "         0, 0, 2, 0, 1, 0, 0, 1, 1, 0, 1, 1, 1, 1, 0, 0, 2,\n",
    "         0, 0, 2, 0, 1, 0, 0, 0, 1, 1, 1, 1, 2, 0, 0, 0, 0,\n",
    "         1, 0, 2, 0, 0, 0, 1, 2, 2, 1, 1, 0, 1, 1, 2, 1, 0,\n",
    "         0, 0, 0, 0, 0, 2, 0, 1, 0, 2, 1, 1, 1, 1, 1]\n",
    "pred = [0, 0, 0, 0, 2, 0, 0, 0, 2, 0, 1, 2, 0, 0, 0, 0, 1,\n",
    "             2, 1, 1, 2, 0, 1, 2, 1, 0, 1, 1, 0, 0, 2, 1, 0, 0,\n",
    "             0, 1, 2, 0, 1, 0, 0, 1, 1, 0, 1, 1, 1, 1, 1, 0, 2,\n",
    "             0, 2, 2, 0, 1, 0, 0, 0, 1, 1, 1, 1, 2, 0, 0, 0, 0,\n",
    "             1, 0, 2, 0, 0, 0, 1, 2, 2, 1, 1, 2, 1, 1, 1, 1, 1,\n",
    "             0, 0, 0, 0, 0, 2, 0, 1, 1, 2, 1, 0, 1, 1, 2]"
   ]
  },
  {
   "cell_type": "code",
   "execution_count": 27,
   "metadata": {},
   "outputs": [
    {
     "name": "stdout",
     "output_type": "stream",
     "text": [
      "[[41.  6.  5.]\n",
      " [ 2. 30.  2.]\n",
      " [ 1.  1. 12.]]\n"
     ]
    }
   ],
   "source": [
    "import numpy as np\n",
    "y_true = true.copy()\n",
    "y_pred = pred.copy()\n",
    "def matrix(y_true, y_pred):\n",
    "    m = np.zeros([3,3])\n",
    "    for item in range(0,len(y_true)):\n",
    "        if y_true[item] == 0 and y_pred[item] == 0:\n",
    "            m[0,0] = m[0,0] +1\n",
    "        if y_true[item] == 0 and y_pred[item] == 1:\n",
    "            m[0,1] = m[0,1] +1\n",
    "        if y_true[item] == 0 and y_pred[item] == 2:\n",
    "            m[0,2] = m[0,2] +1\n",
    "        if y_true[item] == 1 and y_pred[item] == 0:\n",
    "            m[1,0] = m[1,0] +1\n",
    "        if y_true[item] == 1 and y_pred[item] == 1:\n",
    "            m[1,1] = m[1,1] +1\n",
    "        if y_true[item] == 1 and y_pred[item] == 2:\n",
    "            m[1,2] = m[1,2] +1\n",
    "        if y_true[item] == 2 and y_pred[item] == 0:\n",
    "            m[2,0] = m[2,0] +1\n",
    "        if y_true[item] == 2 and y_pred[item] == 1:\n",
    "            m[2,1] = m[2,1] +1\n",
    "        if y_true[item] == 2 and y_pred[item] == 2:\n",
    "            m[2,2] = m[2,2] +1\n",
    "    return m\n",
    "cf = matrix(y_true, y_pred)\n",
    "print(cf)"
   ]
  },
  {
   "cell_type": "code",
   "execution_count": 176,
   "metadata": {},
   "outputs": [
    {
     "name": "stdout",
     "output_type": "stream",
     "text": [
      "Recall0: \t 0.7884615384615384\n",
      "Recall1: \t 0.8823529411764706\n",
      "Recall2: \t 0.8571428571428571\n",
      "Recall averaged: 0.8426524455936221\n",
      "Precision0: \t 0.9318181818181818\n",
      "Precision1: \t 0.8108108108108109\n",
      "Precision2: \t 0.631578947368421\n",
      "Precision avrgd: 0.7914026466658045\n",
      "F-score0: \t 0.854\n",
      "F-score1: \t 0.845\n",
      "F-score2: \t 0.727\n",
      "F-score average: 0.816\n"
     ]
    }
   ],
   "source": [
    "def macro_average(cf):\n",
    "    r0 = cf[0,0]/(cf[0,0]+cf[0,1]+cf[0,2])\n",
    "    r1 = cf[1,1]/(cf[1,1]+cf[1,0]+cf[1,2])\n",
    "    r2 = cf[2,2]/(cf[2,2]+cf[2,0]+cf[2,1])\n",
    "    reca = (r0+r1+r2)/3\n",
    "    p0 = cf[0,0]/(cf[0,0]+cf[1,0]+cf[2,0]) \n",
    "    p1 = cf[1,1]/(cf[1,1]+cf[0,1]+cf[2,1])\n",
    "    p2 = cf[2,2]/(cf[2,2]+cf[0,2]+cf[1,2])\n",
    "    prec = (p0+p1+p2)/3\n",
    "    beta = 1\n",
    "    f_beta0 = round((1+beta**2)*p0*r0/(beta**2*p0+r0),3)\n",
    "    f_beta1 = round((1+beta**2)*p1*r1/(beta**2*p1+r1),3)\n",
    "    f_beta2 = round((1+beta**2)*p2*r2/(beta**2*p2+r2),3)\n",
    "    f_betatot = round((1+beta**2)*prec*reca/(beta**2*prec+reca),3)\n",
    "    return r0,r1,r2,reca,p0,p1,p2,prec,f_beta0,f_beta1,f_beta2,f_betatot\n",
    "m = macro_average(cf)\n",
    "print(\"Recall0:\", \"\\t\", m[0])\n",
    "print(\"Recall1:\", \"\\t\", m[1])\n",
    "print(\"Recall2:\", \"\\t\", m[2])\n",
    "print(\"Recall averaged:\", m[3])\n",
    "print(\"Precision0:\", \"\\t\", m[4])\n",
    "print(\"Precision1:\", \"\\t\", m[5])\n",
    "print(\"Precision2:\", \"\\t\", m[6])\n",
    "print(\"Precision avrgd:\", m[7])\n",
    "print(\"F-score0:\", \"\\t\", m[8])\n",
    "print(\"F-score1:\", \"\\t\", m[9])\n",
    "print(\"F-score2:\", \"\\t\", m[10])\n",
    "print(\"F-score average:\", m[11])"
   ]
  },
  {
   "cell_type": "code",
   "execution_count": 156,
   "metadata": {},
   "outputs": [
    {
     "name": "stdout",
     "output_type": "stream",
     "text": [
      "Recall0: \t 0.7884615384615384\n",
      "Precision0: \t 0.9318181818181818\n",
      "F-score0: \t 0.8541666666666667\n"
     ]
    },
    {
     "data": {
      "image/png": "[encoded data removed]",
      "text/plain": [
       "<Figure size 432x288 with 1 Axes>"
      ]
     },
     "metadata": {
      "needs_background": "light"
     },
     "output_type": "display_data"
    }
   ],
   "source": [
    "#precision and recall for case 0 + f-scores plot from .1-1\n",
    "def re0():\n",
    "    recall = cf[0,0]/(cf[0,0]+cf[0,1]+cf[0,2]) \n",
    "    return recall\n",
    "re0 = (re0())\n",
    "print(\"Recall0:\", \"\\t\",re0)\n",
    "def pr0():\n",
    "    precision = cf[0,0]/(cf[0,0]+cf[1,0]+cf[2,0]) \n",
    "    return precision\n",
    "pr0 = (pr0())\n",
    "print(\"Precision0:\", \"\\t\",pr0)\n",
    "\n",
    "def f0(pr0,re0, beta=1):\n",
    "    f_score = (1+beta**2)*pr0*re0/(beta**2*pr0+re0)\n",
    "    return f_score \n",
    "print(\"F-score0:\", \"\\t\", f0(pr0,re0, beta=1))\n",
    "\n",
    "def different_f_scores():\n",
    "    beta = [x*0.1 for x in range(0,10+1)]\n",
    "    plt.plot(beta, [f0(pr0, re0, beta=b) for b in beta])\n",
    "    plt.xlabel(\"Value for beta\")\n",
    "    plt.ylabel(\"F-beta score\")\n",
    "different_f_scores()\n",
    "#interpretation of f-beta: the higher the value of f-beta, the lower the f-score will be. Therefore more emphasis on precision"
   ]
  },
  {
   "cell_type": "code",
   "execution_count": 157,
   "metadata": {},
   "outputs": [
    {
     "name": "stdout",
     "output_type": "stream",
     "text": [
      "Recall1: \t 0.8823529411764706\n",
      "Precision1: \t 0.8108108108108109\n",
      "F-score1: \t 0.8450704225352113\n"
     ]
    },
    {
     "data": {
      "image/png": "[encoded data removed]",
      "text/plain": [
       "<Figure size 432x288 with 1 Axes>"
      ]
     },
     "metadata": {
      "needs_background": "light"
     },
     "output_type": "display_data"
    }
   ],
   "source": [
    "#precision and recall for case 1 + f-scores plot from .1-1\n",
    "def re1():\n",
    "    recall = cf[1,1]/(cf[1,1]+cf[1,0]+cf[1,2]) \n",
    "    return recall\n",
    "re1 = (re1())\n",
    "print(\"Recall1:\", \"\\t\",re1)\n",
    "def pr1():\n",
    "    precision = cf[1,1]/(cf[1,1]+cf[0,1]+cf[2,1]) \n",
    "    return precision\n",
    "pr1 = (pr1())\n",
    "print(\"Precision1:\", \"\\t\",pr1)\n",
    "\n",
    "def f1(pr1,re1, beta=1):\n",
    "    f_score = (1+beta**2)*pr1*re1/(beta**2*pr1+re1)\n",
    "    return f_score \n",
    "print(\"F-score1:\", \"\\t\", f1(pr1,re1, beta=1))\n",
    "\n",
    "def different_f_scores():\n",
    "    beta = [x*0.1 for x in range(0,10+1)]\n",
    "    plt.plot(beta, [f1(pr1, re1, beta=b) for b in beta])\n",
    "    plt.xlabel(\"Value for beta\")\n",
    "    plt.ylabel(\"F-beta score\")\n",
    "different_f_scores() \n",
    "#interpretation of f-beta. The higher the value of beta, the higher the f-score will be. Therefore recall is more important."
   ]
  },
  {
   "cell_type": "code",
   "execution_count": 169,
   "metadata": {},
   "outputs": [
    {
     "name": "stdout",
     "output_type": "stream",
     "text": [
      "Recall2: \t 0.8571428571428571\n",
      "Precision2: \t 0.631578947368421\n",
      "F-score2: \t 0.7272727272727273\n"
     ]
    },
    {
     "data": {
      "image/png": "[encoded data removed]",
      "text/plain": [
       "<Figure size 432x288 with 1 Axes>"
      ]
     },
     "metadata": {
      "needs_background": "light"
     },
     "output_type": "display_data"
    }
   ],
   "source": [
    "def re2():\n",
    "    recall = cf[2,2]/(cf[2,2]+cf[2,0]+cf[2,1])\n",
    "    return recall\n",
    "re2 = (re2())\n",
    "print(\"Recall2:\", \"\\t\",re2)\n",
    "\n",
    "def pr2():\n",
    "    precision = cf[2,2]/(cf[2,2]+cf[0,2]+cf[1,2])\n",
    "    return precision\n",
    "pr2 = (pr2())\n",
    "print(\"Precision2:\", \"\\t\",pr2)\n",
    "\n",
    "def f2(pr2, re2, beta=1):\n",
    "    f_score = (1+beta**2)*pr2*re2/(beta**2*pr2+re2)\n",
    "    return f_score \n",
    "print(\"F-score2:\", \"\\t\", f2(pr2, re2, beta=1))\n",
    "\n",
    "def different_f_scores():\n",
    "    beta = [x*0.1 for x in range(0,10+1)]\n",
    "    plt.plot(beta, [f2(pr2, re2, beta=b) for b in beta])\n",
    "    plt.xlabel(\"Value for beta\")\n",
    "    plt.ylabel(\"F-beta score\")\n",
    "different_f_scores() \n",
    "#interpretation of f-beta. The higher the value of beta, the higher the f-score will be. Therefore recall is more important."
   ]
  },
  {
   "cell_type": "code",
   "execution_count": 185,
   "metadata": {},
   "outputs": [
    {
     "name": "stdout",
     "output_type": "stream",
     "text": [
      "Recall3: \t 0.8426524455936221\n",
      "Precision3: \t 0.7908763308763308\n",
      "F-score3: \t 0.815943843750596\n"
     ]
    },
    {
     "data": {
      "image/png": "[encoded data removed]",
      "text/plain": [
       "<Figure size 432x288 with 1 Axes>"
      ]
     },
     "metadata": {
      "needs_background": "light"
     },
     "output_type": "display_data"
    }
   ],
   "source": [
    "def re3():\n",
    "    recall = (r0+r1+r2)/3 \n",
    "    return recall\n",
    "re3 = (re3())\n",
    "print(\"Recall3:\", \"\\t\",re3)\n",
    "\n",
    "def pr3():\n",
    "    precision = (p0+p1+.63)/3\n",
    "    return precision\n",
    "pr3 = (pr3())\n",
    "print(\"Precision3:\", \"\\t\",pr3)\n",
    "\n",
    "def f3(pr3,re3, beta=1):\n",
    "    f_score = (1+beta**2)*pr3*re3/(beta**2*pr3+re3)\n",
    "    return f_score \n",
    "print(\"F-score3:\", \"\\t\", f3(pr3,re3, beta=1))\n",
    "\n",
    "def different_f_scores():\n",
    "    beta = [x*0.1 for x in range(0,10+1)]\n",
    "    plt.plot(beta, [f3(pr3, re3, beta=b) for b in beta])\n",
    "    plt.xlabel(\"Value for beta\")\n",
    "    plt.ylabel(\"F-beta score\")\n",
    "different_f_scores() \n",
    "#interpretation of f-beta. The higher the value of beta, the higher the f-score will be. Therefore recall is more important."
   ]
  }
 ],
 "metadata": {
  "kernelspec": {
   "display_name": "Python 3",
   "language": "python",
   "name": "python3"
  },
  "language_info": {
   "codemirror_mode": {
    "name": "ipython",
    "version": 3
   },
   "file_extension": ".py",
   "mimetype": "text/x-python",
   "name": "python",
   "nbconvert_exporter": "python",
   "pygments_lexer": "ipython3",
   "version": "3.7.1"
  }
 },
 "nbformat": 4,
 "nbformat_minor": 4
}
