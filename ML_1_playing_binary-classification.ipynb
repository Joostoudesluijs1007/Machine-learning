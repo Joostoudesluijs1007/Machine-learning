{
 "cells": [
  {
   "cell_type": "code",
   "execution_count": 85,
   "metadata": {},
   "outputs": [
    {
     "name": "stdout",
     "output_type": "stream",
     "text": [
      "Populating the interactive namespace from numpy and matplotlib\n"
     ]
    }
   ],
   "source": [
    "%pylab inline --no-import-all"
   ]
  },
  {
   "cell_type": "code",
   "execution_count": 1,
   "metadata": {},
   "outputs": [],
   "source": [
    "#data = spam and flagged\n",
    "#spam = y_true (known y)\n",
    "#flagged = y_pred (predicted y)\n",
    "spam = [0, 0, 1, 0, 1, 0, 0, 1, 0, 0, 0, 0, 0, 0, 0, 1, 0, 0, 0, 0, 0, 0, 0, 0, 1, \n",
    "           0, 0, 0, 0, 0, 0, 0, 0, 1, 0, 1, 0, 0, 0, 0, 0, 0, 0, 0, 0, 0, 0, 0, 0, 0, \n",
    "           0, 1, 1, 1, 0, 1, 0, 0, 1, 0, 0, 0, 0, 0, 0, 0, 0, 0, 0, 0, 0, 0, 1, 0, 0, \n",
    "           0, 1, 0, 0, 0, 0, 0, 0, 0, 0, 0, 0, 0, 0, 1, 0, 1, 0, 0, 0, 0, 0, 1, 0, 0]\n",
    "\n",
    "flagged = [1, 0, 1, 0, 1, 0, 0, 0, 0, 0, 0, 0, 0, 0, 0, 1, 0, 0, 0, 0, 0, 0, 0, 0, 0,\n",
    "               0, 0, 0, 0, 0, 0, 0, 0, 0, 0, 0, 0, 0, 0, 0, 0, 0, 0, 0, 0, 0, 0, 0, 0, 0,\n",
    "               0, 1, 1, 0, 1, 1, 0, 0, 0, 0, 0, 0, 0, 0, 0, 0, 0, 0, 0, 0, 0, 0, 1, 0, 0,\n",
    "               0, 1, 0, 0, 0, 0, 0, 0, 0, 0, 0, 0, 0, 0, 1, 1, 1, 0, 0, 0, 0, 0, 1, 0, 0]"
   ]
  },
  {
   "cell_type": "code",
   "execution_count": 84,
   "metadata": {},
   "outputs": [],
   "source": [
    "import numpy as np\n",
    "y_true = spam.copy()\n",
    "y_pred = flagged.copy()"
   ]
  },
  {
   "cell_type": "code",
   "execution_count": 59,
   "metadata": {},
   "outputs": [
    {
     "name": "stdout",
     "output_type": "stream",
     "text": [
      "Accuracy: 0.91\n"
     ]
    }
   ],
   "source": [
    "def accuracy(y_true, y_pred):\n",
    "    y_true_array = np.array(y_true)\n",
    "    y_pred_array = np.array(y_pred)\n",
    "    accu = np.mean(y_true_array == y_pred_array)\n",
    "    return accu\n",
    "print(\"Accuracy:\", accuracy(y_true, y_pred))"
   ]
  },
  {
   "cell_type": "code",
   "execution_count": 60,
   "metadata": {},
   "outputs": [
    {
     "name": "stdout",
     "output_type": "stream",
     "text": [
      "Accuracy: 0.91\n"
     ]
    }
   ],
   "source": [
    "#same but in less efficient way\n",
    "def accuracy(y_true, y_pred):\n",
    "    c = 0\n",
    "    for item in range(0,len(y_true)):\n",
    "        if y_true[item] == y_pred[item]:\n",
    "            c+=1\n",
    "    accu = c/len(y_true)\n",
    "    return accu\n",
    "print(\"Accuracy:\", accuracy(y_true, y_pred))"
   ]
  },
  {
   "cell_type": "code",
   "execution_count": 61,
   "metadata": {},
   "outputs": [
    {
     "name": "stdout",
     "output_type": "stream",
     "text": [
      "[[80.  3.]\n",
      " [ 6. 11.]]\n"
     ]
    }
   ],
   "source": [
    "#ground for TN,FP,FN,TP\n",
    "def matrix(y_true, y_pred):\n",
    "    matr = np.zeros([2,2])\n",
    "    for item in range(0,len(y_true)):\n",
    "        if y_true[item] == 0 and y_pred[item] == 0:\n",
    "            matr[0,0] = matr[0,0]+1\n",
    "        if y_true[item] == 0 and y_pred[item] == 1:\n",
    "            matr[0,1] = matr[0,1]+1\n",
    "        if y_true[item] == 1 and y_pred[item] == 0:\n",
    "            matr[1,0] = matr[1,0]+1\n",
    "        if y_true[item] == 1 and y_pred[item] == 1:\n",
    "            matr[1,1] = matr[1,1]+1\n",
    "    return matr\n",
    "cf = matrix(y_true, y_pred)\n",
    "print(cf)"
   ]
  },
  {
   "cell_type": "code",
   "execution_count": 126,
   "metadata": {},
   "outputs": [
    {
     "name": "stdout",
     "output_type": "stream",
     "text": [
      "Accuracy: 0.91\n",
      "Precision 0.7857142857142857\n",
      "Recall: 0.6470588235294118\n",
      "Specificity: 0.963855421686747\n",
      "f-score: 0.7096774193548386\n"
     ]
    }
   ],
   "source": [
    "def accuracy(cf):\n",
    "    TN = cf[0,0]\n",
    "    FP = cf[0,1]\n",
    "    FN = cf[1,0]\n",
    "    TP = cf[1,1]\n",
    "    accu = (TP+TN)/np.sum(cf)\n",
    "    return accu\n",
    "accuracy = (accuracy(cf))\n",
    "print(\"Accuracy:\", accuracy)\n",
    "\n",
    "def precision(cf):\n",
    "    TP = cf[1,1]\n",
    "    FP = cf[0,1]\n",
    "    prec = TP/(TP+FP)\n",
    "    return prec\n",
    "precision = (precision(cf))\n",
    "print(\"Precision\", precision)\n",
    "\n",
    "def recall(cf):\n",
    "    TP = cf[1,1]\n",
    "    FN = cf[1,0]\n",
    "    rec = TP/(TP+FN)\n",
    "    return rec\n",
    "recall = recall(cf) \n",
    "print(\"Recall:\", recall)\n",
    "\n",
    "def specificity(cf):\n",
    "    TN = cf[0,0]\n",
    "    FP = cf[0,1]\n",
    "    speci = TN/(TN+FP)\n",
    "    return speci\n",
    "specificity = specificity(cf)\n",
    "print(\"Specificity:\", specificity)\n",
    "\n",
    "def f_beta_score(precision, recall, beta=1):\n",
    "    f_score = (1+beta**2) * precision*recall / (beta**2*precision+recall)\n",
    "    return f_score\n",
    "f_score = f_beta_score(precision, recall, beta=1)\n",
    "print(\"f-score:\", f_score)"
   ]
  },
  {
   "cell_type": "code",
   "execution_count": 109,
   "metadata": {},
   "outputs": [
    {
     "name": "stdout",
     "output_type": "stream",
     "text": [
      "0.7096774193548386\n"
     ]
    },
    {
     "data": {
      "image/png": "[encoded data removed]",
      "text/plain": [
       "<Figure size 432x288 with 1 Axes>"
      ]
     },
     "metadata": {
      "needs_background": "light"
     },
     "output_type": "display_data"
    }
   ],
   "source": [
    "def different_f_scores(cf1):\n",
    "    example_precision = 0.79\n",
    "    example_recall = 0.647\n",
    "    beta = [x*0.2 for x in range(0,10+1)]\n",
    "    print(cf1[2])\n",
    "    plt.plot(beta, [f_beta_score(precision, recall, beta=b) for b in beta])\n",
    "    plt.xlabel(\"Value for beta\")\n",
    "    plt.ylabel(\"F-beta score\")\n",
    "different_f_scores(cf1)"
   ]
  }
 ],
 "metadata": {
  "kernelspec": {
   "display_name": "Python 3",
   "language": "python",
   "name": "python3"
  },
  "language_info": {
   "codemirror_mode": {
    "name": "ipython",
    "version": 3
   },
   "file_extension": ".py",
   "mimetype": "text/x-python",
   "name": "python",
   "nbconvert_exporter": "python",
   "pygments_lexer": "ipython3",
   "version": "3.7.1"
  }
 },
 "nbformat": 4,
 "nbformat_minor": 4
}
